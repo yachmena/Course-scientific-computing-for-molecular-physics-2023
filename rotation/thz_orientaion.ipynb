{
 "cells": [
  {
   "cell_type": "markdown",
   "metadata": {},
   "source": [
    "# Orientation of a linear molecule using strong THz fields\n",
    "\n",
    "Simulate orientation of OCS linear molecule produced by a strong THz filed of the kind reported in [\"Optical generation of single-cycle 10 MW peak power 100 GHz waves\", X. Wu, et al., Opt. Express 24, 21059 (2016)](https://doi.org/10.1364/OE.24.021059)"
   ]
  },
  {
   "cell_type": "code",
   "execution_count": 1,
   "metadata": {},
   "outputs": [],
   "source": [
    "from field_free import field_free_linear\n",
    "from stark import dipole_me_matrix, field_free_matrix\n",
    "from thz_field import thz_field\n",
    "from tdse import propagate\n",
    "from constants import DEBYE_TIMES_VOLTS_PER_CM_INTO_INVPS, LIGHT_SPEED_CM_PER_PS\n",
    "\n",
    "import numpy as np\n",
    "from scipy.interpolate import RegularGridInterpolator\n",
    "from scipy.spatial.transform import Rotation\n",
    "import matplotlib.pyplot as plt"
   ]
  },
  {
   "cell_type": "markdown",
   "metadata": {},
   "source": [
    "### Molecular data for OCS molecule"
   ]
  },
  {
   "cell_type": "code",
   "execution_count": 2,
   "metadata": {},
   "outputs": [],
   "source": [
    "# rotational constant in 1/cm\n",
    "rot_b = 0.203\n",
    "\n",
    "# dipole moment in Debye\n",
    "dipole_debye = (0, 0, 0.715)"
   ]
  },
  {
   "cell_type": "markdown",
   "metadata": {},
   "source": [
    "### Field-free rotational energies and wavefunctions"
   ]
  },
  {
   "cell_type": "code",
   "execution_count": 3,
   "metadata": {},
   "outputs": [],
   "source": [
    "max_j = 3\n",
    "\n",
    "rot_enr = {}\n",
    "rot_vec = {}\n",
    "rot_assignment = {}\n",
    "rot_func_on_grid = {}\n",
    "\n",
    "for j in range(max_j + 1):\n",
    "    rot_enr[j], rot_vec[j], rot_assignment[j], grid, rot_func_on_grid[j] = (\n",
    "        field_free_linear(j, rot_b)\n",
    "    )"
   ]
  },
  {
   "cell_type": "markdown",
   "metadata": {},
   "source": [
    "Print rotational energies and assignments"
   ]
  },
  {
   "cell_type": "code",
   "execution_count": 4,
   "metadata": {},
   "outputs": [
    {
     "name": "stdout",
     "output_type": "stream",
     "text": [
      "Rotational energies\n",
      "# (J, ka, kc)  E (MHz)\n",
      "0 (0, 0, 0) 0.0\n",
      "0 (1, 0, 0) 0.406\n",
      "0 (2, 0, 0) 1.218\n",
      "0 (3, 0, 0) 2.436\n"
     ]
    }
   ],
   "source": [
    "print(\"Rotational energies\\n# (J, ka, kc)  E (MHz)\")\n",
    "for j in rot_enr.keys():\n",
    "    for i, (e, (j, ka, kc)) in enumerate(zip(rot_enr[j], rot_assignment[j])):\n",
    "        print(i, (j, ka, kc), e)"
   ]
  },
  {
   "cell_type": "markdown",
   "metadata": {},
   "source": [
    "### Rotational matrix elements of dipole moment operator"
   ]
  },
  {
   "cell_type": "code",
   "execution_count": 5,
   "metadata": {},
   "outputs": [],
   "source": [
    "# dipole matrix elelements\n",
    "dipole_matrix = dipole_me_matrix(max_j, rot_vec, dipole_debye, linear=True) # NOTE: linear=True for linear molecule\n",
    "\n",
    "# field-free Hamiltonian - diagonal matrix with rotational energies\n",
    "h0_matrix, assignment = field_free_matrix(max_j, rot_enr, rot_assignment)"
   ]
  },
  {
   "cell_type": "markdown",
   "metadata": {},
   "source": [
    "Print assignments of rotational states, including the $m$-degeneracy"
   ]
  },
  {
   "cell_type": "code",
   "execution_count": 6,
   "metadata": {},
   "outputs": [
    {
     "name": "stdout",
     "output_type": "stream",
     "text": [
      "Rotational energies\n",
      "# (J, ka, kc, m)  E (MHz)\n",
      "0 (0, 0, 0, 0) 0.0\n",
      "1 (1, 0, 0, -1) 0.406\n",
      "2 (1, 0, 0, 0) 0.406\n",
      "3 (1, 0, 0, 1) 0.406\n",
      "4 (2, 0, 0, -2) 1.218\n",
      "5 (2, 0, 0, -1) 1.218\n",
      "6 (2, 0, 0, 0) 1.218\n",
      "7 (2, 0, 0, 1) 1.218\n",
      "8 (2, 0, 0, 2) 1.218\n",
      "9 (3, 0, 0, -3) 2.436\n",
      "10 (3, 0, 0, -2) 2.436\n",
      "11 (3, 0, 0, -1) 2.436\n",
      "12 (3, 0, 0, 0) 2.436\n",
      "13 (3, 0, 0, 1) 2.436\n",
      "14 (3, 0, 0, 2) 2.436\n",
      "15 (3, 0, 0, 3) 2.436\n"
     ]
    }
   ],
   "source": [
    "print(\"Rotational energies\\n# (J, ka, kc, m)  E (MHz)\")\n",
    "for i, (j, ka, kc, m) in enumerate(assignment):\n",
    "    print(i, (j, ka, kc, m), h0_matrix[i, i])"
   ]
  },
  {
   "cell_type": "markdown",
   "metadata": {},
   "source": [
    "### Define THz field\n",
    "\n",
    "Use field provided by `thz_field` module, which is a digitized version of the Figure 4 in [\"Optical generation of single-cycle 10 MW peak power 100 GHz waves\", X. Wu, et al., Opt. Express 24, 21059 (2016)](https://doi.org/10.1364/OE.24.021059)"
   ]
  },
  {
   "cell_type": "code",
   "execution_count": 7,
   "metadata": {},
   "outputs": [
    {
     "data": {
      "image/png": "[encoded data removed]",
      "text/plain": [
       "<Figure size 400x300 with 1 Axes>"
      ]
     },
     "metadata": {},
     "output_type": "display_data"
    }
   ],
   "source": [
    "# field, in V/cm, as a function of time, in picoseconds\n",
    "field = lambda time: np.array([0, 0, thz_field(time, peak_field=100e4)])\n",
    "\n",
    "time = np.linspace(0, 20, 100)\n",
    "plt.figure(figsize=(4, 3))\n",
    "plt.plot(time, np.array([field(t) for t in time]), label=[\"X\", \"Y\", \"Z\"])\n",
    "plt.xlabel(\"Time, ps\")\n",
    "plt.ylabel(\"Field, V/cm\")\n",
    "plt.legend()\n",
    "plt.show()"
   ]
  },
  {
   "cell_type": "markdown",
   "metadata": {},
   "source": [
    "### Propagate\n",
    "\n",
    "Solve time-dependent Schrödinger equation with THz field. Molecule initially in the ground rotational state."
   ]
  },
  {
   "cell_type": "code",
   "execution_count": 16,
   "metadata": {},
   "outputs": [
    {
     "name": "stdout",
     "output_type": "stream",
     "text": [
      "0.0 0.9999999958069032\n",
      "1.0 0.9999996094358069\n",
      "2.0 0.9999913809042551\n",
      "3.0 0.9999549539760504\n",
      "4.0 0.9974316587454484\n",
      "5.0 0.9935760053255365\n",
      "6.0 0.5419604092428779\n",
      "7.0 0.01651671703101585\n",
      "8.0 0.13222077524732448\n",
      "9.0 0.2666655689561007\n",
      "10.0 0.30825567213446387\n",
      "11.0 0.2864196514327888\n",
      "12.0 0.2723982287302124\n",
      "13.0 0.2905916421359812\n",
      "14.0 0.30276540177697003\n",
      "15.0 0.30276540177697003\n",
      "16.0 0.30276540177697003\n",
      "17.0 0.30276540177697003\n",
      "18.0 0.30276540177697003\n",
      "19.0 0.30276540177697003\n",
      "20.0 0.30276540177697003\n",
      "21.0 0.30276540177697003\n",
      "22.0 0.30276540177697003\n",
      "23.0 0.30276540177697003\n",
      "24.0 0.30276540177697003\n",
      "25.0 0.30276540177697003\n",
      "26.0 0.30276540177697003\n",
      "27.0 0.30276540177697003\n",
      "28.0 0.30276540177697003\n",
      "29.0 0.30276540177697003\n",
      "30.0 0.30276540177697003\n",
      "31.0 0.30276540177697003\n",
      "32.0 0.30276540177697003\n",
      "33.0 0.30276540177697003\n",
      "34.0 0.30276540177697003\n",
      "35.0 0.30276540177697003\n",
      "36.0 0.30276540177697003\n",
      "37.0 0.30276540177697003\n",
      "38.0 0.30276540177697003\n",
      "39.0 0.30276540177697003\n",
      "40.0 0.30276540177697003\n",
      "41.0 0.30276540177697003\n",
      "42.0 0.30276540177697003\n",
      "43.0 0.30276540177697003\n",
      "44.0 0.30276540177697003\n",
      "45.0 0.30276540177697003\n",
      "46.0 0.30276540177697003\n",
      "47.0 0.30276540177697003\n",
      "48.0 0.30276540177697003\n",
      "49.0 0.30276540177697003\n",
      "50.0 0.30276540177697003\n",
      "51.0 0.30276540177697003\n",
      "52.0 0.30276540177697003\n",
      "53.0 0.30276540177697003\n",
      "54.0 0.30276540177697003\n",
      "55.0 0.30276540177697003\n",
      "56.0 0.30276540177697003\n",
      "57.0 0.30276540177697003\n",
      "58.0 0.30276540177697003\n",
      "59.0 0.30276540177697003\n",
      "60.0 0.30276540177697003\n",
      "61.0 0.30276540177697003\n",
      "62.0 0.30276540177697003\n",
      "63.0 0.30276540177697003\n",
      "64.0 0.30276540177697003\n",
      "65.0 0.30276540177697003\n",
      "66.0 0.30276540177697003\n",
      "67.0 0.30276540177697003\n",
      "68.0 0.30276540177697003\n",
      "69.0 0.30276540177697003\n",
      "70.0 0.30276540177697003\n",
      "71.0 0.30276540177697003\n",
      "72.0 0.30276540177697003\n",
      "73.0 0.30276540177697003\n",
      "74.0 0.30276540177697003\n",
      "75.0 0.30276540177697003\n",
      "76.0 0.30276540177697003\n",
      "77.0 0.30276540177697003\n",
      "78.0 0.30276540177697003\n",
      "79.0 0.30276540177697003\n",
      "80.0 0.30276540177697003\n",
      "81.0 0.30276540177697003\n",
      "82.0 0.30276540177697003\n",
      "83.0 0.30276540177697003\n",
      "84.0 0.30276540177697003\n",
      "85.0 0.30276540177697003\n",
      "86.0 0.30276540177697003\n",
      "87.0 0.30276540177697003\n",
      "88.0 0.30276540177697003\n",
      "89.0 0.30276540177697003\n",
      "90.0 0.30276540177697003\n",
      "91.0 0.30276540177697003\n",
      "92.0 0.30276540177697003\n",
      "93.0 0.30276540177697003\n",
      "94.0 0.30276540177697003\n",
      "95.0 0.30276540177697003\n",
      "96.0 0.30276540177697003\n",
      "97.0 0.30276540177697003\n",
      "98.0 0.30276540177697003\n",
      "99.0 0.30276540177697003\n",
      "100.01 0.30276540177697003\n",
      "101.01 0.30276540177697003\n",
      "102.01 0.30276540177697003\n",
      "103.01 0.30276540177697003\n",
      "104.01 0.30276540177697003\n",
      "105.01 0.30276540177697003\n",
      "106.01 0.30276540177697003\n",
      "107.01 0.30276540177697003\n",
      "108.01 0.30276540177697003\n",
      "109.01 0.30276540177697003\n",
      "110.01 0.30276540177697003\n",
      "111.01 0.30276540177697003\n",
      "112.01 0.30276540177697003\n",
      "113.01 0.30276540177697003\n",
      "114.01 0.30276540177697003\n",
      "115.01 0.30276540177697003\n",
      "116.01 0.30276540177697003\n",
      "117.01 0.30276540177697003\n",
      "118.01 0.30276540177697003\n",
      "119.01 0.30276540177697003\n",
      "120.01 0.30276540177697003\n",
      "121.01 0.30276540177697003\n",
      "122.01 0.30276540177697003\n",
      "123.01 0.30276540177697003\n",
      "124.01 0.30276540177697003\n",
      "125.01 0.30276540177697003\n",
      "126.01 0.30276540177697003\n",
      "127.01 0.30276540177697003\n",
      "128.01 0.30276540177697003\n",
      "129.01 0.30276540177697003\n",
      "130.01 0.30276540177697003\n",
      "131.01 0.30276540177697003\n",
      "132.01 0.30276540177697003\n",
      "133.01 0.30276540177697003\n",
      "134.01 0.30276540177697003\n",
      "135.01 0.30276540177697003\n",
      "136.01 0.30276540177697003\n",
      "137.01 0.30276540177697003\n",
      "138.01 0.30276540177697003\n",
      "139.01 0.30276540177697003\n",
      "140.01 0.30276540177697003\n",
      "141.01 0.30276540177697003\n",
      "142.01 0.30276540177697003\n",
      "143.01 0.30276540177697003\n",
      "144.01 0.30276540177697003\n",
      "145.01 0.30276540177697003\n",
      "146.01 0.30276540177697003\n",
      "147.01 0.30276540177697003\n",
      "148.01 0.30276540177697003\n",
      "149.01 0.30276540177697003\n",
      "150.01 0.30276540177697003\n",
      "151.01 0.30276540177697003\n",
      "152.01 0.30276540177697003\n",
      "153.01 0.30276540177697003\n",
      "154.01 0.30276540177697003\n",
      "155.01 0.30276540177697003\n",
      "156.01 0.30276540177697003\n",
      "157.01 0.30276540177697003\n",
      "158.01 0.30276540177697003\n",
      "159.01 0.30276540177697003\n",
      "160.01 0.30276540177697003\n",
      "161.01 0.30276540177697003\n",
      "162.01 0.30276540177697003\n",
      "163.01 0.30276540177697003\n",
      "164.01 0.30276540177697003\n",
      "165.01 0.30276540177697003\n",
      "166.01 0.30276540177697003\n",
      "167.01 0.30276540177697003\n",
      "168.01 0.30276540177697003\n",
      "169.01 0.30276540177697003\n",
      "170.01 0.30276540177697003\n",
      "171.01 0.30276540177697003\n",
      "172.01 0.30276540177697003\n",
      "173.01 0.30276540177697003\n",
      "174.01 0.30276540177697003\n",
      "175.01 0.30276540177697003\n",
      "176.01 0.30276540177697003\n",
      "177.01 0.30276540177697003\n",
      "178.01 0.30276540177697003\n",
      "179.01 0.30276540177697003\n",
      "180.01 0.30276540177697003\n",
      "181.01 0.30276540177697003\n",
      "182.01 0.30276540177697003\n",
      "183.01 0.30276540177697003\n",
      "184.01 0.30276540177697003\n",
      "185.01 0.30276540177697003\n",
      "186.01 0.30276540177697003\n",
      "187.01 0.30276540177697003\n",
      "188.01 0.30276540177697003\n",
      "189.01 0.30276540177697003\n",
      "190.01 0.30276540177697003\n",
      "191.01 0.30276540177697003\n",
      "192.01 0.30276540177697003\n",
      "193.01 0.30276540177697003\n",
      "194.01 0.30276540177697003\n",
      "195.01 0.30276540177697003\n",
      "196.01 0.30276540177697003\n",
      "197.01 0.30276540177697003\n",
      "198.01 0.30276540177697003\n",
      "199.01 0.30276540177697003\n"
     ]
    }
   ],
   "source": [
    "# convert field-free Hamiltonian from 1/cm to 1/ps\n",
    "h0_matrix_invps = h0_matrix * LIGHT_SPEED_CM_PER_PS\n",
    "\n",
    "# convert dipole matrix elelements to units cm/(V*ps)\n",
    "# to make sure that when it is multiplied with field in V/cm, the final units will be 1/ps\n",
    "dipole_matrix_invps = dipole_matrix * DEBYE_TIMES_VOLTS_PER_CM_INTO_INVPS\n",
    "\n",
    "# solve TDSE\n",
    "\n",
    "# initial population - ground state only\n",
    "coefs = np.zeros(len(h0_matrix_invps))\n",
    "coefs[0] = 1.0\n",
    "\n",
    "coefs_time = propagate(\n",
    "    start_time=0.0,\n",
    "    end_time=200,\n",
    "    time_step=0.01,\n",
    "    field=field,\n",
    "    field_free_matrix=h0_matrix_invps,\n",
    "    dipole_matrix=dipole_matrix_invps,\n",
    "    initial_coefs=coefs,\n",
    "    on_update=lambda i, t, c: (  # print population of state no. 0 at each 100th timestep\n",
    "        print(\n",
    "            t.round(2),\n",
    "            np.abs(c[0]) ** 2,\n",
    "        )\n",
    "        if i % 100 == 0\n",
    "        else None\n",
    "    ),\n",
    ")\n",
    "\n",
    "# keep only every 10th element (resulting time-resolution 0.1 ps)\n",
    "coefs_time = coefs_time[0::10]"
   ]
  },
  {
   "cell_type": "markdown",
   "metadata": {},
   "source": [
    "### Plot populations of states\n",
    "\n",
    "Plot time-evolution of populations for different rotational states"
   ]
  },
  {
   "cell_type": "code",
   "execution_count": 17,
   "metadata": {},
   "outputs": [
    {
     "data": {
      "image/png": "[encoded data removed]",
      "text/plain": [
       "<Figure size 640x480 with 1 Axes>"
      ]
     },
     "metadata": {},
     "output_type": "display_data"
    }
   ],
   "source": [
    "plot_thresh = 1e-1\n",
    "\n",
    "# extract time grid\n",
    "time_list = np.array([time for (ind, time, coef) in coefs_time])\n",
    "\n",
    "# extract populations\n",
    "populations_time = np.array([np.abs(coef) ** 2 for (ind, time, coef) in coefs_time])\n",
    "\n",
    "# plot significant populations\n",
    "for state_ind, population in enumerate(populations_time.T):\n",
    "    if np.max(population) > plot_thresh:\n",
    "        label = \"$J,k_a,k_c,m=$\"+\",\".join(f\"{elem}$\" for elem in assignment[state_ind])\n",
    "        plt.plot(time_list, population, label=label)\n",
    "plt.xlabel(\"Time, ps\")\n",
    "plt.ylabel(\"State population\")\n",
    "plt.legend()\n",
    "plt.show()"
   ]
  },
  {
   "cell_type": "markdown",
   "metadata": {},
   "source": [
    "### Evaluate degree of orientation\n",
    "\n",
    "The degree of orientation is defined by the expectation value of the $\\cos\\beta$ function:\n",
    "\n",
    "$$\n",
    "\\langle\\psi(t) |\\cos\\theta|\\psi(t)\\rangle,\n",
    "$$\n",
    "\n",
    "where $\\theta$ is the angle between the dipole moment vector in the molecular frame and the field polarisation axis in the laboratory frame, and $\\psi(t)$ is the rotational wavepacket.\n",
    "Note, the rotational wavepacket is also a function of three Euler angles: $\\alpha$, $\\beta$, and $\\gamma$.\n",
    "For shortness, these variables are skipped in our notation.\n",
    "\n",
    "To compute the expectation value, we can employ a Monte Carlo method. This approach involves approximating the integral that represents the expectation value as a sum over a discrete set of points that are sampled based on the density. Specifically, the expectation value can be approximated as follows:\n",
    "\n",
    "$$\n",
    "\\langle\\psi(t) |\\cos\\theta|\\psi(t)\\rangle = \\int \\psi^*(t)\\psi(t) \\cos\\theta d\\alpha d\\beta\\sin\\beta d\\gamma =  \\int \\rho(t) \\cos\\theta d\\alpha d\\beta d\\gamma\n",
    "\\approx \\sum_{\\{\\alpha_g,\\beta_g,\\gamma_g\\} \\sim \\rho(t)}^{N_g} \\cos\\theta(\\alpha_g,\\beta_g,\\gamma_g),\n",
    "$$\n",
    "\n",
    "where $\\rho(t) = \\psi^*(t)\\psi(t)\\sin\\beta$ is introduced as the rotational density function.\n",
    "\n",
    "Extending this approach, we can map the discretely sampled Euler angles $\\{\\alpha_g,\\beta_g,\\gamma_g\\}_g^{N_g}$,\n",
    "which are distributed according to the rotational density $\\rho(t)$, to the elements of the direction-cosine\n",
    "rotation matrix $R{(3\\times 3)}$ that rotates a vector from the molecular to the laboratory frame.\n",
    "Each set of Euler angles generates a corresponding rotation matrix $R_g = R(\\alpha_g,\\beta_g,\\gamma_g)$.\n",
    "This allows us to evaluate how distributions in the molecular frame transform to the laboratory frame,\n",
    "and compute any related matrix elements.\n",
    "\n",
    "For instance, to calculate the matrix element of $\\cos\\theta$ for OCS, with the dipole moment vector aligned along the molecular $z$ axis and the external field polarisation aligned along the laboratory $Z$ axis, we use the following approximation:\n",
    "\n",
    "$$\n",
    "\\langle\\psi(t) |\\cos\\theta|\\psi(t)\\rangle \\approx \\sum_{\\{\\alpha_g,\\beta_g,\\gamma_g\\} \\sim \\rho(t)}^{N_g} \\cos\\theta(\\alpha_g,\\beta_g,\\gamma_g)\n",
    "= \\sum_{\\{\\alpha_g,\\beta_g,\\gamma_g\\} \\sim \\rho(t)}^{N_g} [R_g\\cdot (0, 0, 1)]_Z,\n",
    "$$\n",
    "\n",
    "where $[..]_Z$ means that we take only the third component of the resulting dot product, corresponding to the $Z$ projection."
   ]
  },
  {
   "cell_type": "markdown",
   "metadata": {},
   "source": [
    "In practice, the process begins by understanding the composition of the rotational wavepacket, which is expressed\n",
    "as a linear combination of rotational wavefunctions:\n",
    "\n",
    "$$\n",
    "\\psi(t) = \\sum_{J,k_a,k_c,m} c_{J,k_a,k_c,m}(t) \\phi_{J,k_a,k_c,m},\n",
    "$$\n",
    "\n",
    "with time-dependent coefficients $c(t)$ obtained from the solution of the TDSE, for example, using `tdse.propagate`.\n",
    "\n",
    "Rotational wavefunctions are in turn eigenfunctions of the field-free rotational Hamiltonian.\n",
    "They are expressed as linear combinations of symmetric-top functions:\n",
    "\n",
    "$$\n",
    "\\phi_{J,k_a,k_c,m} = \\sum_{k_a,k_c} c_{k_a,k_c}^{(J,m)}|J,k_a,k_c,m\\rangle.\n",
    "$$\n",
    "\n",
    "The functions $\\phi_{J,k_a,k_c,m}$ depend on the three Euler angles $\\alpha$, $\\beta$, and $\\gamma$.\n",
    "The eigenfunction coefficients $c_{k_a,k_c}^{(J,m)}$ together with the values of rotational wavefunctions $\\phi_{J,k_a,k_c,m}$ on a grid of Euler angle values are calculated by `field_free.field_free` or `field_free.field_free_linear` functions, as we did it in the cells above."
   ]
  },
  {
   "cell_type": "code",
   "execution_count": 18,
   "metadata": {},
   "outputs": [
    {
     "name": "stdout",
     "output_type": "stream",
     "text": [
      "total number of points in Euler grid: 27000\n",
      "(1, 3, 27000)\n",
      "Rotational energies\n",
      "# (J, ka, kc, m)  E (MHz)\n",
      "0 (0, 0, 0, 0) 0.0 (27000,)\n",
      "1 (1, 0, 0, -1) 0.406 (27000,)\n",
      "2 (1, 0, 0, 0) 0.406 (27000,)\n",
      "3 (1, 0, 0, 1) 0.406 (27000,)\n",
      "4 (2, 0, 0, -2) 1.218 (27000,)\n",
      "5 (2, 0, 0, -1) 1.218 (27000,)\n",
      "6 (2, 0, 0, 0) 1.218 (27000,)\n",
      "7 (2, 0, 0, 1) 1.218 (27000,)\n",
      "8 (2, 0, 0, 2) 1.218 (27000,)\n",
      "9 (3, 0, 0, -3) 2.436 (27000,)\n",
      "10 (3, 0, 0, -2) 2.436 (27000,)\n",
      "11 (3, 0, 0, -1) 2.436 (27000,)\n",
      "12 (3, 0, 0, 0) 2.436 (27000,)\n",
      "13 (3, 0, 0, 1) 2.436 (27000,)\n",
      "14 (3, 0, 0, 2) 2.436 (27000,)\n",
      "15 (3, 0, 0, 3) 2.436 (27000,)\n"
     ]
    }
   ],
   "source": [
    "# grid of Euler angles, as output by `field_free_linear`\n",
    "alpha, beta, gamma = grid\n",
    "no_grid_points = len(alpha) * len(beta) * len(gamma)  # total number of grid points\n",
    "print(\"total number of points in Euler grid:\", no_grid_points)\n",
    "\n",
    "# inspect the shape of `rot_func_on_grid[j]`, computed previously in `field_free_linear`\n",
    "#   the first dimension - number of rotational states,\n",
    "#   the second - m = -J..J, the third - grid point index in a 3D grid\n",
    "#   formed by a direct product of 1D grids in `alpha`, `beta`, and `gamma`\n",
    "j = 1\n",
    "print(rot_func_on_grid[j].shape)\n",
    "\n",
    "# arrange field-free rotational wavefunctions on grid in the same order of functions (quantum numbers)\n",
    "# as used for the field-free and dipole matrix elements\n",
    "func_on_grid = np.concatenate(\n",
    "    [rot_func_on_grid[j].reshape(-1, no_grid_points) for j in range(max_j + 1)], axis=0\n",
    ")\n",
    "\n",
    "# for example, we can print energies and assignments of rotational states\n",
    "# and access the rotational wavefunctions for each state as follows\n",
    "print(\"Rotational energies\\n# (J, ka, kc, m)  E (MHz)\")\n",
    "for i, (j, ka, kc, m) in enumerate(assignment):\n",
    "    print(\n",
    "        i, (j, ka, kc, m), h0_matrix[i, i], func_on_grid[i].shape\n",
    "    )  # func_on_grid[i].shape = (no_grid_points,)"
   ]
  },
  {
   "cell_type": "markdown",
   "metadata": {},
   "source": [
    "After obtaining the rotational wavefunctions $\\phi_{J,k_a,k_c,m}$ evaluated on a grid on Euler angles and stored in the array `func_on_grid`, the next step is to calculate the values of the time-dependent wavepacket $\\psi(t)$ on the same grid.\n",
    "The wavepacket is represented by $\\psi(t) = \\sum_{J,k_a,k_c,m} c_{J,k_a,k_c,m}(t) \\phi_{J,k_a,k_c,m}$, where $c_{J,k_a,k_c,m}(t)$ are the time-dependent coefficients that have been computed previously using the `tdse.propagate` function. These coefficients are stored in a collection named `coefs_time`.\n",
    "To evaluate $\\psi(t)$ on the grid, we essentially need to perform the dot product between the coefficients and the wavefunctions, evaluated at each point on the grid and each time point $t$.\n"
   ]
  },
  {
   "cell_type": "code",
   "execution_count": 19,
   "metadata": {},
   "outputs": [
    {
     "name": "stdout",
     "output_type": "stream",
     "text": [
      "(27000, 2000)\n"
     ]
    }
   ],
   "source": [
    "# extract wavepacket coefficients\n",
    "coefs = np.array([coef for (ind, time, coef) in coefs_time])\n",
    "\n",
    "# compute wavepacket on grid of Euler angles\n",
    "wavepack_on_grid = np.dot(func_on_grid.T, coefs.T)\n",
    "\n",
    "print(wavepack_on_grid.shape) # shape = (no_grid_points, no_time_steps)"
   ]
  },
  {
   "cell_type": "markdown",
   "metadata": {},
   "source": [
    "Now, evaluate the time-dependent rotational density function $\\rho(t) = \\psi^*(t)\\psi(t)\\sin\\beta$ and store it in `dens_on_grid`"
   ]
  },
  {
   "cell_type": "code",
   "execution_count": 20,
   "metadata": {},
   "outputs": [
    {
     "name": "stdout",
     "output_type": "stream",
     "text": [
      "(30, 30, 30, 2000)\n"
     ]
    }
   ],
   "source": [
    "\n",
    "dens_on_grid = wavepack_on_grid * np.conj(wavepack_on_grid)\n",
    "dens_on_grid = dens_on_grid.real\n",
    "\n",
    "# reshape density from a 3D direct product grid to the three 1D nested grids\n",
    "dens_on_grid = dens_on_grid.reshape(len(alpha), len(beta), len(gamma), -1)\n",
    "\n",
    "# multiply by spherical volume element \\sin\\beta\n",
    "sin_beta = np.sin(beta)\n",
    "dens_on_grid *= sin_beta[None, :, None, None]\n",
    "\n",
    "print(dens_on_grid.shape) # shape = (len(alpha), len(beta), len(gamma), no_time_steps)"
   ]
  },
  {
   "cell_type": "markdown",
   "metadata": {},
   "source": [
    "#### Monte-Carlo procedure\n",
    "\n",
    "Generate dicrete samples of Euler angles according to the rotational density, in `dens_on_grid`, and map them into the elements of the direction-cosine rotation matrix."
   ]
  },
  {
   "cell_type": "code",
   "execution_count": 21,
   "metadata": {},
   "outputs": [
    {
     "name": "stdout",
     "output_type": "stream",
     "text": [
      "(6334, 3, 3)\n"
     ]
    }
   ],
   "source": [
    "dens_interpolate = RegularGridInterpolator((alpha, beta, gamma), dens_on_grid)\n",
    "max_dens = np.max(dens_on_grid, axis=(0, 1, 2))\n",
    "\n",
    "# generate uniformly-distributed samples of Euler angles\n",
    "npoints_sample = 10000\n",
    "euler_sample_points = np.random.uniform(\n",
    "    low=[0, 0, 0], high=[2 * np.pi, np.pi, 2 * np.pi], size=(npoints_sample, 3)\n",
    ")\n",
    "\n",
    "# evaluate density on the samples and apply rejection sampling\n",
    "dens = dens_interpolate(euler_sample_points) / max_dens\n",
    "eta = np.random.uniform(0.0, 1.0, size=len(dens))\n",
    "euler_sample_points = [euler_sample_points[np.where(d > eta)] for d in dens.T]\n",
    "\n",
    "# note, different elements in the list `euler_sample_points` correspond to different time steps\n",
    "\n",
    "# map samples of Euler angles to samples of direction-cosine rotation matrix\n",
    "rotation_matrix = [\n",
    "    Rotation.from_euler(\"zyz\", points).as_matrix() for points in euler_sample_points\n",
    "]\n",
    "\n",
    "# note, different elements in the list `rotation_matrix` correspond to different time steps\n",
    "\n",
    "# inspect shape, for example, for time_step=0\n",
    "time_step = 0\n",
    "print(rotation_matrix[time_step].shape) # shape = (no_sample_points, 3, 3)"
   ]
  },
  {
   "cell_type": "markdown",
   "metadata": {},
   "source": [
    "And finally, evaluate expectation values of desired functions of Euler angles, e.g., $\\cos\\theta$."
   ]
  },
  {
   "cell_type": "code",
   "execution_count": 22,
   "metadata": {},
   "outputs": [
    {
     "data": {
      "image/png": "[encoded data removed]",
      "text/plain": [
       "<Figure size 640x480 with 1 Axes>"
      ]
     },
     "metadata": {},
     "output_type": "display_data"
    }
   ],
   "source": [
    "mol_vector = [0, 0, 1]\n",
    "lab_vector = [np.dot(rot, mol_vector) for rot in rotation_matrix]\n",
    "\n",
    "cos_theta = np.array([np.mean(vec[:, 2]) for vec in lab_vector])\n",
    "\n",
    "plt.plot(time_list, cos_theta)\n",
    "plt.xlabel('Time, ps')\n",
    "plt.ylabel('$\\\\langle \\\\psi(t)|\\\\cos\\\\theta|\\\\psi(t)\\\\rangle$')\n",
    "plt.show()"
   ]
  },
  {
   "cell_type": "code",
   "execution_count": null,
   "metadata": {},
   "outputs": [],
   "source": []
  }
 ],
 "metadata": {
  "kernelspec": {
   "display_name": "Python 3",
   "language": "python",
   "name": "python3"
  },
  "language_info": {
   "codemirror_mode": {
    "name": "ipython",
    "version": 3
   },
   "file_extension": ".py",
   "mimetype": "text/x-python",
   "name": "python",
   "nbconvert_exporter": "python",
   "pygments_lexer": "ipython3",
   "version": "3.12.2"
  }
 },
 "nbformat": 4,
 "nbformat_minor": 2
}
